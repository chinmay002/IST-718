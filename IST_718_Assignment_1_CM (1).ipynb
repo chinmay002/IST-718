{
  "cells": [
    {
      "cell_type": "markdown",
      "metadata": {
        "id": "8AliLFQ37Q78"
      },
      "source": [
        "##### Grading Feedback Cell"
      ]
    },
    {
      "cell_type": "markdown",
      "metadata": {
        "deletable": false,
        "nbgrader": {
          "checksum": "4e6cefb0049d48a2f4648d752841bb06",
          "grade": false,
          "grade_id": "cell-b038e38b5e3072a9",
          "locked": false,
          "schema_version": 1,
          "solution": false
        },
        "id": "GTGZzFJo7Q7-"
      },
      "source": [
        "# IST 718: Big Data Analytics\n",
        "\n",
        "- Professors: Akit Kumar <akumar32@syr.edu>\n",
        "- Faculty Assistant: David Antonio Garcia Flores <dgarciaf@syr.edu>\n",
        "## General instructions:\n",
        "\n",
        "- You are welcome to discuss the problems with your classmates but __you are not allowed to copy any part of your answers from your classmates.  Short code snippets are allowed from the internet.  Code from the class text books or class provided code can be copied in its entirety.__\n",
        "- __Do not change homework file names.__ The professor use these names to grade your homework.  Changing file names may result in a point reduction penalty.\n",
        "- There could be tests in some cells (i.e., `assert` and `np.testing.` statements). These tests (if present) are used to grade your answers. **However, the professor and FAs could use __additional__ test for your answer. Think about cases where your code should run even if it passess all the tests you see.**\n",
        "- Before submitting your work, remember to check for run time errors with the following procedure:\n",
        "`Kernel`$\\rightarrow$`Restart and Run All`.  All runtime errors will result in a minimum penalty of half off.\n",
        "- Data Bricks is the official class runtime environment so you should test your code on Data Bricks before submission.  If there is a runtime problem in the grading environment, we will try your code on Data Bricks before making a final grading decision.\n",
        "- All plots shall include a title, and axis labels.\n",
        "- Grading feedback cells are there for graders to provide feedback to students.  Don't change or remove grading feedback cells."
      ]
    },
    {
      "cell_type": "code",
      "source": [
        "#Name:Chinmay Maganur \n",
        "#SUID: 370801446"
      ],
      "metadata": {
        "id": "pf6vJ4YfAmkI"
      },
      "execution_count": 1,
      "outputs": []
    },
    {
      "cell_type": "code",
      "execution_count": 2,
      "metadata": {
        "id": "797ijyms7Q7_"
      },
      "outputs": [],
      "source": [
        "# import all needed packages in this cell\n",
        "import numpy as np\n",
        "import pandas as pd\n",
        "import random \n",
        "import matplotlib.pyplot as plt"
      ]
    },
    {
      "cell_type": "markdown",
      "metadata": {
        "id": "_5YjQRcX7Q8A"
      },
      "source": [
        "**Question 1 (10 pts)** Write a function named reverse_by_three that receives a numpy array, python list, or tuple as an input argument and starting at the 2nd from last element, returns every 3rd element of the list in reverse order.  It is legal to return an empty python list, numpy array, or tuple if the input.  Use slicing syntax exclusively to perform the operations.  Your code should be efficient as possible and not use a lot of extraneous un-needed code in the solution."
      ]
    },
    {
      "cell_type": "code",
      "execution_count": 3,
      "metadata": {
        "deletable": false,
        "nbgrader": {
          "checksum": "085f5b48fbce649d8e6a5f12381f40ce",
          "grade": false,
          "grade_id": "cell-5eb87107d2800505",
          "locked": false,
          "schema_version": 1,
          "solution": true
        },
        "id": "6EYN28H37Q8A"
      },
      "outputs": [],
      "source": [
        "# Create the function reverse_by_three here\n",
        "def reverse_by_three(arr):\n",
        "  return arr[:-1][::-3][1:] #reverse the list and return every third element from the list,[1:] --> to not include 2nd last elelment\n",
        "  #arr[:-1][::-3] #if end last element is to be included"
      ]
    },
    {
      "cell_type": "code",
      "source": [
        "#confusion --> to include or not include the second last element in the output.\n",
        "#i have not included it  by subsetting [1:] \n",
        "#[1:] --> to not include 2nd last elelment\n"
      ],
      "metadata": {
        "id": "kO8u-W6ORTqY"
      },
      "execution_count": 4,
      "outputs": []
    },
    {
      "cell_type": "code",
      "execution_count": 5,
      "metadata": {
        "deletable": false,
        "editable": false,
        "nbgrader": {
          "checksum": "da34aac4c035b267f3ff5816fd031fba",
          "grade": true,
          "grade_id": "cell-17c0ac01cace4b18",
          "locked": true,
          "points": 10,
          "schema_version": 1,
          "solution": false
        },
        "id": "esi5Rp247Q8B",
        "colab": {
          "base_uri": "https://localhost:8080/"
        },
        "outputId": "62c96fae-313a-467b-a4d5-dd799a76bcc1"
      },
      "outputs": [
        {
          "output_type": "execute_result",
          "data": {
            "text/plain": [
              "array([2])"
            ]
          },
          "metadata": {},
          "execution_count": 5
        }
      ],
      "source": [
        "# For grading use only (question 1)\n",
        "reverse_by_three(np.array([1,2,3,4,5,6]))"
      ]
    },
    {
      "cell_type": "markdown",
      "metadata": {
        "id": "RoK7byWr7Q8B"
      },
      "source": [
        "##### Grading Feedback Cell"
      ]
    },
    {
      "cell_type": "markdown",
      "metadata": {
        "id": "kLjXts2y7Q8B"
      },
      "source": [
        "**Question 2 (10 pts)** Create a python class named my_statistics.  The my_statisitics class should require a single numpy array argument in its constructor.  Implement the following statistical methods in the my_statistics class: get_mean, get_pop_std, get_sample_std, get_min, and get_max.  The get_pop_std method shall return the standard deviation assuming the constructor argument is a complete population.  The get_sample_std method shall return the standard deviation assuming that the constructor argument is a sample of a population.  The get_min and get_max methods shall return the min and max of the constructor argument respectively.  The get_mean method shall return the mean.  Use numpy functions to perform the statistical calculations.  "
      ]
    },
    {
      "cell_type": "code",
      "source": [
        "'''\n",
        "arr = [1,2,3,4,5,6]\n",
        "((np.sum((arr - np.mean(arr))**2))/len(arr))**0.5\n",
        "#np.std(arr)\n",
        "'''"
      ],
      "metadata": {
        "colab": {
          "base_uri": "https://localhost:8080/",
          "height": 36
        },
        "id": "iqZeH2pRSZUs",
        "outputId": "cec4fec2-4017-4dce-9f50-f1bcff04895f"
      },
      "execution_count": 6,
      "outputs": [
        {
          "output_type": "execute_result",
          "data": {
            "text/plain": [
              "'\\narr = [1,2,3,4,5,6]\\n((np.sum((arr - np.mean(arr))**2))/len(arr))**0.5\\n#np.std(arr)\\n'"
            ],
            "application/vnd.google.colaboratory.intrinsic+json": {
              "type": "string"
            }
          },
          "metadata": {},
          "execution_count": 6
        }
      ]
    },
    {
      "cell_type": "code",
      "execution_count": 7,
      "metadata": {
        "deletable": false,
        "nbgrader": {
          "checksum": "93c89a396ab6aa6ace9fe98663691b74",
          "grade": false,
          "grade_id": "cell-48471c8515aa4e5c",
          "locked": false,
          "schema_version": 1,
          "solution": true
        },
        "id": "QmeKyDZz7Q8B"
      },
      "outputs": [],
      "source": [
        "# create the my_statistics class here\n",
        "# YOUR CODE HERE\n",
        "class my_statistics():\n",
        "  def __init__(self,arr):\n",
        "    self.arr = arr\n",
        "\n",
        "  def get_mean(self):\n",
        "    return f'mean of array is {np.sum(self.arr)/len(self.arr)}' \n",
        "    #np.mean(self.arr)\n",
        "\n",
        "  def get_pop_std(self):\n",
        "    variance = (np.sum((self.arr - np.mean(self.arr))**2))/len(self.arr)\n",
        "    return f'Population Std deviation is {variance**0.5}'\n",
        "    #return np.std(self.arr)\n",
        "  \n",
        "  def get_sample_std(self):\n",
        "    var_sam = (np.sum((self.arr - np.mean(self.arr))**2))/len(self.arr)-1\n",
        "    return f'Sample standard deviation is {var_sam**0.5}'\n",
        "  \n",
        "  def get_min(self):\n",
        "    return f'Min  is {np.min(self.arr)}'\n",
        "\n",
        "  def get_max(self):\n",
        "    return  f'Max is {np.max(self.arr)}'    "
      ]
    },
    {
      "cell_type": "code",
      "execution_count": 8,
      "metadata": {
        "deletable": false,
        "nbgrader": {
          "checksum": "da34aac4c035b267f3ff5816fd031fba",
          "grade": true,
          "grade_id": "cell-17c0ac01cace4b18",
          "locked": true,
          "points": 10,
          "schema_version": 1,
          "solution": false
        },
        "id": "OhgWJgbp7Q8B",
        "colab": {
          "base_uri": "https://localhost:8080/"
        },
        "outputId": "d307353f-28b7-40f0-dfec-3707427e4d31"
      },
      "outputs": [
        {
          "output_type": "stream",
          "name": "stdout",
          "text": [
            "mean of array is -6.066666666666666\n",
            "Population Std deviation is 85.59086140211205\n",
            "Sample standard deviation is 85.58501945758705\n",
            "Min  is -310\n",
            "Max is 99\n"
          ]
        }
      ],
      "source": [
        "# For grading use only (question 2)\n",
        "stats_data = np.array([12, 17, 9, 13, -5, -7, -9, -11, 39, 42, 17, 2, 99, 1, -310])\n",
        "my_stats = my_statistics(stats_data)\n",
        "print(my_stats.get_mean())\n",
        "print(my_stats.get_pop_std())\n",
        "print(my_stats.get_sample_std())\n",
        "print(my_stats.get_min())\n",
        "print(my_stats.get_max())"
      ]
    },
    {
      "cell_type": "markdown",
      "metadata": {
        "id": "crF07-hs7Q8C"
      },
      "source": [
        "##### Grading Feedback Cell"
      ]
    },
    {
      "cell_type": "markdown",
      "metadata": {
        "id": "oZ1CHYfQ7Q8C"
      },
      "source": [
        "**Question 3 (30 pts)** Create a function named monte_hall that takes as an argument the number of times to iterate a monte-carlo simulation of the Monte Hall problem with 4 doors and 1 prize.   (https://en.wikipedia.org/wiki/Monty_Hall_problem).   \n",
        "For simplicity, you can assume that the game player always initially chooses door A and the host will open one door.  The prize may be behind any of the 4 doors.  The monte_hall function should print answers to the following 2 questions:  Based on the simulation, what is the probability of winning if you switch doors, and what is the probability of winning if you keep door A?  Your function should return these values in a tuple (prob_win_if_switch, prob_win_if_keep)."
      ]
    },
    {
      "cell_type": "code",
      "execution_count": 9,
      "metadata": {
        "id": "owM74f8y7Q8C"
      },
      "outputs": [],
      "source": [
        "# monte_hall function here\n",
        "def monte_hall(n_iter):\n",
        "  \n",
        "  # monte_hall function here\n",
        "  prob_after_switch = []\n",
        "  prob_no_switch = []\n",
        "\n",
        "  doors = [1,0,0,0]\n",
        "  d = random.shuffle(doors)\n",
        "  first_choice = 0\n",
        "  switch_count = 0\n",
        "  no_switch_count = 0\n",
        "\n",
        "  for i in range(n_iter):\n",
        "    random.shuffle(doors)\n",
        "    first_choice = 0 #since he alwasys open first door\n",
        "\n",
        "    if doors[first_choice]!= 1:\n",
        "      switch_count += 1 \n",
        "    else:\n",
        "      no_switch_count += 1\n",
        "\n",
        "    prob_after_switch.append(switch_count/(i+1))  \n",
        "    prob_no_switch.append(no_switch_count/(i+1))\n",
        "  return (prob_after_switch[-1],prob_no_switch[-1])"
      ]
    },
    {
      "cell_type": "code",
      "execution_count": 10,
      "metadata": {
        "deletable": false,
        "editable": false,
        "nbgrader": {
          "checksum": "2d488b9ce0d64d863d724afc6ca32625",
          "grade": false,
          "grade_id": "cell-8804dcdb0db3c1bb",
          "locked": false,
          "schema_version": 1,
          "solution": true
        },
        "id": "emHF5kNn7Q8C",
        "colab": {
          "base_uri": "https://localhost:8080/"
        },
        "outputId": "d1fe926b-52e7-4b21-aa79-edf34bfe3730"
      },
      "outputs": [
        {
          "output_type": "stream",
          "name": "stdout",
          "text": [
            "(0.7461, 0.2539)\n"
          ]
        }
      ],
      "source": [
        "# For grading use only (question 3)\n",
        "print(monte_hall(10000))"
      ]
    },
    {
      "cell_type": "markdown",
      "metadata": {
        "id": "FNi__0ja7Q8C"
      },
      "source": [
        "##### Grading Feedback Cell"
      ]
    },
    {
      "cell_type": "markdown",
      "metadata": {
        "id": "j8jt-Jlp7Q8C"
      },
      "source": [
        "##### **Question 4 (10 pts)** Create a numpy array containing 10,000 samples of random normal data with a mean of 5 and a variance of 4.  Plot a histogram of the data using matplotlib."
      ]
    },
    {
      "cell_type": "code",
      "execution_count": 11,
      "metadata": {
        "id": "oReeGXFx7Q8C",
        "colab": {
          "base_uri": "https://localhost:8080/",
          "height": 369
        },
        "outputId": "b3dd5bb7-264e-4da5-89ed-ab7280541ea9"
      },
      "outputs": [
        {
          "output_type": "execute_result",
          "data": {
            "text/plain": [
              "(array([2.800e+01, 2.500e+02, 1.019e+03, 2.381e+03, 3.161e+03, 2.196e+03,\n",
              "        7.900e+02, 1.580e+02, 1.600e+01, 1.000e+00]),\n",
              " array([-2.0756752 , -0.46539155,  1.14489209,  2.75517574,  4.36545939,\n",
              "         5.97574303,  7.58602668,  9.19631032, 10.80659397, 12.41687761,\n",
              "        14.02716126]),\n",
              " <a list of 10 Patch objects>)"
            ]
          },
          "metadata": {},
          "execution_count": 11
        },
        {
          "output_type": "display_data",
          "data": {
            "text/plain": [
              "<Figure size 432x288 with 1 Axes>"
            ],
            "image/png": "[encoded data removed]"
          },
          "metadata": {
            "needs_background": "light"
          }
        }
      ],
      "source": [
        "# your histogram plot code here\n",
        "array = np.random.normal(loc = 5 , scale=2,size=10000)\n",
        "plt.hist(array)"
      ]
    },
    {
      "cell_type": "markdown",
      "metadata": {
        "id": "vKxYX5bc7Q8C"
      },
      "source": [
        "##### Grading Feedback Cell"
      ]
    },
    {
      "cell_type": "code",
      "source": [
        "# for grading use only (question 4)"
      ],
      "metadata": {
        "id": "-LstYxAJshD_"
      },
      "execution_count": 12,
      "outputs": []
    },
    {
      "cell_type": "markdown",
      "metadata": {
        "id": "z0JTPWr07Q8C"
      },
      "source": [
        "#### Question 5 (10 pts) The below cell creates a pandas dataframe called iris_df.  Write a function named plot_iris_grid that uses matplotlib to create a grid of 16 scatter plots of all combinatations of the columns in the iris_df data frame.  For example, the first row should be sepal len vs sepal len, sepal len vs sepal width, sepal len vs petal len, sepal len vs petal width."
      ]
    },
    {
      "cell_type": "code",
      "execution_count": 13,
      "metadata": {
        "id": "uzfqML2Q7Q8C",
        "colab": {
          "base_uri": "https://localhost:8080/",
          "height": 206
        },
        "outputId": "bd13b3d0-ca56-4326-e9d9-c50c07112e66"
      },
      "outputs": [
        {
          "output_type": "display_data",
          "data": {
            "text/plain": [
              "   sepal length (cm)  sepal width (cm)  petal length (cm)  petal width (cm)\n",
              "0                5.1               3.5                1.4               0.2\n",
              "1                4.9               3.0                1.4               0.2\n",
              "2                4.7               3.2                1.3               0.2\n",
              "3                4.6               3.1                1.5               0.2\n",
              "4                5.0               3.6                1.4               0.2"
            ],
            "text/html": [
              "\n",
              "  <div id=\"df-1df3f146-034a-47f1-9f86-7b313dce2f97\">\n",
              "    <div class=\"colab-df-container\">\n",
              "      <div>\n",
              "<style scoped>\n",
              "    .dataframe tbody tr th:only-of-type {\n",
              "        vertical-align: middle;\n",
              "    }\n",
              "\n",
              "    .dataframe tbody tr th {\n",
              "        vertical-align: top;\n",
              "    }\n",
              "\n",
              "    .dataframe thead th {\n",
              "        text-align: right;\n",
              "    }\n",
              "</style>\n",
              "<table border=\"1\" class=\"dataframe\">\n",
              "  <thead>\n",
              "    <tr style=\"text-align: right;\">\n",
              "      <th></th>\n",
              "      <th>sepal length (cm)</th>\n",
              "      <th>sepal width (cm)</th>\n",
              "      <th>petal length (cm)</th>\n",
              "      <th>petal width (cm)</th>\n",
              "    </tr>\n",
              "  </thead>\n",
              "  <tbody>\n",
              "    <tr>\n",
              "      <th>0</th>\n",
              "      <td>5.1</td>\n",
              "      <td>3.5</td>\n",
              "      <td>1.4</td>\n",
              "      <td>0.2</td>\n",
              "    </tr>\n",
              "    <tr>\n",
              "      <th>1</th>\n",
              "      <td>4.9</td>\n",
              "      <td>3.0</td>\n",
              "      <td>1.4</td>\n",
              "      <td>0.2</td>\n",
              "    </tr>\n",
              "    <tr>\n",
              "      <th>2</th>\n",
              "      <td>4.7</td>\n",
              "      <td>3.2</td>\n",
              "      <td>1.3</td>\n",
              "      <td>0.2</td>\n",
              "    </tr>\n",
              "    <tr>\n",
              "      <th>3</th>\n",
              "      <td>4.6</td>\n",
              "      <td>3.1</td>\n",
              "      <td>1.5</td>\n",
              "      <td>0.2</td>\n",
              "    </tr>\n",
              "    <tr>\n",
              "      <th>4</th>\n",
              "      <td>5.0</td>\n",
              "      <td>3.6</td>\n",
              "      <td>1.4</td>\n",
              "      <td>0.2</td>\n",
              "    </tr>\n",
              "  </tbody>\n",
              "</table>\n",
              "</div>\n",
              "      <button class=\"colab-df-convert\" onclick=\"convertToInteractive('df-1df3f146-034a-47f1-9f86-7b313dce2f97')\"\n",
              "              title=\"Convert this dataframe to an interactive table.\"\n",
              "              style=\"display:none;\">\n",
              "        \n",
              "  <svg xmlns=\"http://www.w3.org/2000/svg\" height=\"24px\"viewBox=\"0 0 24 24\"\n",
              "       width=\"24px\">\n",
              "    <path d=\"M0 0h24v24H0V0z\" fill=\"none\"/>\n",
              "    <path d=\"M18.56 5.44l.94 2.06.94-2.06 2.06-.94-2.06-.94-.94-2.06-.94 2.06-2.06.94zm-11 1L8.5 8.5l.94-2.06 2.06-.94-2.06-.94L8.5 2.5l-.94 2.06-2.06.94zm10 10l.94 2.06.94-2.06 2.06-.94-2.06-.94-.94-2.06-.94 2.06-2.06.94z\"/><path d=\"M17.41 7.96l-1.37-1.37c-.4-.4-.92-.59-1.43-.59-.52 0-1.04.2-1.43.59L10.3 9.45l-7.72 7.72c-.78.78-.78 2.05 0 2.83L4 21.41c.39.39.9.59 1.41.59.51 0 1.02-.2 1.41-.59l7.78-7.78 2.81-2.81c.8-.78.8-2.07 0-2.86zM5.41 20L4 18.59l7.72-7.72 1.47 1.35L5.41 20z\"/>\n",
              "  </svg>\n",
              "      </button>\n",
              "      \n",
              "  <style>\n",
              "    .colab-df-container {\n",
              "      display:flex;\n",
              "      flex-wrap:wrap;\n",
              "      gap: 12px;\n",
              "    }\n",
              "\n",
              "    .colab-df-convert {\n",
              "      background-color: #E8F0FE;\n",
              "      border: none;\n",
              "      border-radius: 50%;\n",
              "      cursor: pointer;\n",
              "      display: none;\n",
              "      fill: #1967D2;\n",
              "      height: 32px;\n",
              "      padding: 0 0 0 0;\n",
              "      width: 32px;\n",
              "    }\n",
              "\n",
              "    .colab-df-convert:hover {\n",
              "      background-color: #E2EBFA;\n",
              "      box-shadow: 0px 1px 2px rgba(60, 64, 67, 0.3), 0px 1px 3px 1px rgba(60, 64, 67, 0.15);\n",
              "      fill: #174EA6;\n",
              "    }\n",
              "\n",
              "    [theme=dark] .colab-df-convert {\n",
              "      background-color: #3B4455;\n",
              "      fill: #D2E3FC;\n",
              "    }\n",
              "\n",
              "    [theme=dark] .colab-df-convert:hover {\n",
              "      background-color: #434B5C;\n",
              "      box-shadow: 0px 1px 3px 1px rgba(0, 0, 0, 0.15);\n",
              "      filter: drop-shadow(0px 1px 2px rgba(0, 0, 0, 0.3));\n",
              "      fill: #FFFFFF;\n",
              "    }\n",
              "  </style>\n",
              "\n",
              "      <script>\n",
              "        const buttonEl =\n",
              "          document.querySelector('#df-1df3f146-034a-47f1-9f86-7b313dce2f97 button.colab-df-convert');\n",
              "        buttonEl.style.display =\n",
              "          google.colab.kernel.accessAllowed ? 'block' : 'none';\n",
              "\n",
              "        async function convertToInteractive(key) {\n",
              "          const element = document.querySelector('#df-1df3f146-034a-47f1-9f86-7b313dce2f97');\n",
              "          const dataTable =\n",
              "            await google.colab.kernel.invokeFunction('convertToInteractive',\n",
              "                                                     [key], {});\n",
              "          if (!dataTable) return;\n",
              "\n",
              "          const docLinkHtml = 'Like what you see? Visit the ' +\n",
              "            '<a target=\"_blank\" href=https://colab.research.google.com/notebooks/data_table.ipynb>data table notebook</a>'\n",
              "            + ' to learn more about interactive tables.';\n",
              "          element.innerHTML = '';\n",
              "          dataTable['output_type'] = 'display_data';\n",
              "          await google.colab.output.renderOutput(dataTable, element);\n",
              "          const docLink = document.createElement('div');\n",
              "          docLink.innerHTML = docLinkHtml;\n",
              "          element.appendChild(docLink);\n",
              "        }\n",
              "      </script>\n",
              "    </div>\n",
              "  </div>\n",
              "  "
            ]
          },
          "metadata": {}
        }
      ],
      "source": [
        "from sklearn.datasets import load_iris\n",
        "\n",
        "# plot_iris_grid code here\n",
        "iris = load_iris()\n",
        "iris_df = pd.DataFrame(iris.data, columns=iris.feature_names)\n",
        "display(iris_df.head())"
      ]
    },
    {
      "cell_type": "code",
      "source": [
        "columns = iris_df.columns\n",
        "fig, axes = plt.subplots(4, 4,figsize=(20, 20))\n",
        "for i,col_i in enumerate(columns):\n",
        "  #print(f'index_i is {i},col_i name is {col_i}')\n",
        "  for j,col_j in enumerate(columns):\n",
        "    #print(f'index_j is {j},col_i name is {col_j}')\n",
        "    axes[i, j].scatter(iris_df[col_i],iris_df[col_j])\n",
        "    axes[i,j].set_xlabel(col_i)\n",
        "    axes[i,j].set_ylabel(col_j)\n",
        "    "
      ],
      "metadata": {
        "colab": {
          "base_uri": "https://localhost:8080/",
          "height": 1000
        },
        "id": "NAcIS-KDeRlH",
        "outputId": "33b35a25-9460-44d0-b3f3-d0a6e724374c"
      },
      "execution_count": 14,
      "outputs": [
        {
          "output_type": "display_data",
          "data": {
            "text/plain": [
              "<Figure size 1440x1440 with 16 Axes>"
            ],
            "image/png": "[encoded data removed]"
          },
          "metadata": {
            "needs_background": "light"
          }
        }
      ]
    },
    {
      "cell_type": "markdown",
      "metadata": {
        "id": "z_xS9Hzq7Q8D"
      },
      "source": [
        "##### Grading Feedback Cell"
      ]
    },
    {
      "cell_type": "code",
      "source": [
        "# for grading use only (question 5)"
      ],
      "metadata": {
        "id": "5FduIW1ysW6B"
      },
      "execution_count": 15,
      "outputs": []
    },
    {
      "cell_type": "markdown",
      "metadata": {
        "id": "SQcsuwT67Q8D"
      },
      "source": [
        "#### Question 6 (20 pts) Pandas"
      ]
    },
    {
      "cell_type": "markdown",
      "metadata": {
        "id": "hFZguu147Q8D"
      },
      "source": [
        "6a (4 pts): Read the supplied potholes_2016.csv file into a pandas dataframe named potholes.  Save the shape of the potholes dataframe in a variable named potholes_shape.  Display the potholes_shape variable.  Display the head of the potholes dataframe.  "
      ]
    },
    {
      "cell_type": "code",
      "execution_count": 16,
      "metadata": {
        "id": "5yN6lqi97Q8D",
        "colab": {
          "base_uri": "https://localhost:8080/",
          "height": 223
        },
        "outputId": "00a4c585-e85f-4d76-bef7-06bf6ccbc27e"
      },
      "outputs": [
        {
          "output_type": "stream",
          "name": "stdout",
          "text": [
            "shape of potholes is (7488, 10)\n"
          ]
        },
        {
          "output_type": "execute_result",
          "data": {
            "text/plain": [
              "  StreetNumber StreetName StreetNamePostType Directional  \\\n",
              "0          215  COMSTOCK                 AVE         NaN   \n",
              "1          700   MIDLAND                 AVE         NaN   \n",
              "2         1604     GRANT                BLVD         NaN   \n",
              "3          261    HOPPER                  RD         NaN   \n",
              "4         1821    VALLEY                  DR         NaN   \n",
              "\n",
              "                         strLocation           dtTime  streetID VehicleName  \\\n",
              "0      215 COMSTOCK AVE & HARRISON S   4/14/2016 8:57  12578124         DP2   \n",
              "1   700-06 MIDLAND AVE & CASTLE ST W   4/15/2016 9:01  12573231         DP1   \n",
              "2  1604-08 GRANT BLVD & WOODRUFF AVE  4/15/2016 13:03  12580306         DP1   \n",
              "3                      261 HOPPER RD  4/18/2016 10:39  12571704         DP2   \n",
              "4     1821 VALLEY DR & CHAFFEE AVE E  4/18/2016 10:52  12571710         DP2   \n",
              "\n",
              "    Latitude  Longitude  \n",
              "0 -76.130140  43.044159  \n",
              "1 -76.154074  43.031314  \n",
              "2 -76.138284  43.072356  \n",
              "3 -76.159681  42.998028  \n",
              "4 -76.152482  42.997837  "
            ],
            "text/html": [
              "\n",
              "  <div id=\"df-b0944033-b766-4c74-8a30-83532f1bacba\">\n",
              "    <div class=\"colab-df-container\">\n",
              "      <div>\n",
              "<style scoped>\n",
              "    .dataframe tbody tr th:only-of-type {\n",
              "        vertical-align: middle;\n",
              "    }\n",
              "\n",
              "    .dataframe tbody tr th {\n",
              "        vertical-align: top;\n",
              "    }\n",
              "\n",
              "    .dataframe thead th {\n",
              "        text-align: right;\n",
              "    }\n",
              "</style>\n",
              "<table border=\"1\" class=\"dataframe\">\n",
              "  <thead>\n",
              "    <tr style=\"text-align: right;\">\n",
              "      <th></th>\n",
              "      <th>StreetNumber</th>\n",
              "      <th>StreetName</th>\n",
              "      <th>StreetNamePostType</th>\n",
              "      <th>Directional</th>\n",
              "      <th>strLocation</th>\n",
              "      <th>dtTime</th>\n",
              "      <th>streetID</th>\n",
              "      <th>VehicleName</th>\n",
              "      <th>Latitude</th>\n",
              "      <th>Longitude</th>\n",
              "    </tr>\n",
              "  </thead>\n",
              "  <tbody>\n",
              "    <tr>\n",
              "      <th>0</th>\n",
              "      <td>215</td>\n",
              "      <td>COMSTOCK</td>\n",
              "      <td>AVE</td>\n",
              "      <td>NaN</td>\n",
              "      <td>215 COMSTOCK AVE &amp; HARRISON S</td>\n",
              "      <td>4/14/2016 8:57</td>\n",
              "      <td>12578124</td>\n",
              "      <td>DP2</td>\n",
              "      <td>-76.130140</td>\n",
              "      <td>43.044159</td>\n",
              "    </tr>\n",
              "    <tr>\n",
              "      <th>1</th>\n",
              "      <td>700</td>\n",
              "      <td>MIDLAND</td>\n",
              "      <td>AVE</td>\n",
              "      <td>NaN</td>\n",
              "      <td>700-06 MIDLAND AVE &amp; CASTLE ST W</td>\n",
              "      <td>4/15/2016 9:01</td>\n",
              "      <td>12573231</td>\n",
              "      <td>DP1</td>\n",
              "      <td>-76.154074</td>\n",
              "      <td>43.031314</td>\n",
              "    </tr>\n",
              "    <tr>\n",
              "      <th>2</th>\n",
              "      <td>1604</td>\n",
              "      <td>GRANT</td>\n",
              "      <td>BLVD</td>\n",
              "      <td>NaN</td>\n",
              "      <td>1604-08 GRANT BLVD &amp; WOODRUFF AVE</td>\n",
              "      <td>4/15/2016 13:03</td>\n",
              "      <td>12580306</td>\n",
              "      <td>DP1</td>\n",
              "      <td>-76.138284</td>\n",
              "      <td>43.072356</td>\n",
              "    </tr>\n",
              "    <tr>\n",
              "      <th>3</th>\n",
              "      <td>261</td>\n",
              "      <td>HOPPER</td>\n",
              "      <td>RD</td>\n",
              "      <td>NaN</td>\n",
              "      <td>261 HOPPER RD</td>\n",
              "      <td>4/18/2016 10:39</td>\n",
              "      <td>12571704</td>\n",
              "      <td>DP2</td>\n",
              "      <td>-76.159681</td>\n",
              "      <td>42.998028</td>\n",
              "    </tr>\n",
              "    <tr>\n",
              "      <th>4</th>\n",
              "      <td>1821</td>\n",
              "      <td>VALLEY</td>\n",
              "      <td>DR</td>\n",
              "      <td>NaN</td>\n",
              "      <td>1821 VALLEY DR &amp; CHAFFEE AVE E</td>\n",
              "      <td>4/18/2016 10:52</td>\n",
              "      <td>12571710</td>\n",
              "      <td>DP2</td>\n",
              "      <td>-76.152482</td>\n",
              "      <td>42.997837</td>\n",
              "    </tr>\n",
              "  </tbody>\n",
              "</table>\n",
              "</div>\n",
              "      <button class=\"colab-df-convert\" onclick=\"convertToInteractive('df-b0944033-b766-4c74-8a30-83532f1bacba')\"\n",
              "              title=\"Convert this dataframe to an interactive table.\"\n",
              "              style=\"display:none;\">\n",
              "        \n",
              "  <svg xmlns=\"http://www.w3.org/2000/svg\" height=\"24px\"viewBox=\"0 0 24 24\"\n",
              "       width=\"24px\">\n",
              "    <path d=\"M0 0h24v24H0V0z\" fill=\"none\"/>\n",
              "    <path d=\"M18.56 5.44l.94 2.06.94-2.06 2.06-.94-2.06-.94-.94-2.06-.94 2.06-2.06.94zm-11 1L8.5 8.5l.94-2.06 2.06-.94-2.06-.94L8.5 2.5l-.94 2.06-2.06.94zm10 10l.94 2.06.94-2.06 2.06-.94-2.06-.94-.94-2.06-.94 2.06-2.06.94z\"/><path d=\"M17.41 7.96l-1.37-1.37c-.4-.4-.92-.59-1.43-.59-.52 0-1.04.2-1.43.59L10.3 9.45l-7.72 7.72c-.78.78-.78 2.05 0 2.83L4 21.41c.39.39.9.59 1.41.59.51 0 1.02-.2 1.41-.59l7.78-7.78 2.81-2.81c.8-.78.8-2.07 0-2.86zM5.41 20L4 18.59l7.72-7.72 1.47 1.35L5.41 20z\"/>\n",
              "  </svg>\n",
              "      </button>\n",
              "      \n",
              "  <style>\n",
              "    .colab-df-container {\n",
              "      display:flex;\n",
              "      flex-wrap:wrap;\n",
              "      gap: 12px;\n",
              "    }\n",
              "\n",
              "    .colab-df-convert {\n",
              "      background-color: #E8F0FE;\n",
              "      border: none;\n",
              "      border-radius: 50%;\n",
              "      cursor: pointer;\n",
              "      display: none;\n",
              "      fill: #1967D2;\n",
              "      height: 32px;\n",
              "      padding: 0 0 0 0;\n",
              "      width: 32px;\n",
              "    }\n",
              "\n",
              "    .colab-df-convert:hover {\n",
              "      background-color: #E2EBFA;\n",
              "      box-shadow: 0px 1px 2px rgba(60, 64, 67, 0.3), 0px 1px 3px 1px rgba(60, 64, 67, 0.15);\n",
              "      fill: #174EA6;\n",
              "    }\n",
              "\n",
              "    [theme=dark] .colab-df-convert {\n",
              "      background-color: #3B4455;\n",
              "      fill: #D2E3FC;\n",
              "    }\n",
              "\n",
              "    [theme=dark] .colab-df-convert:hover {\n",
              "      background-color: #434B5C;\n",
              "      box-shadow: 0px 1px 3px 1px rgba(0, 0, 0, 0.15);\n",
              "      filter: drop-shadow(0px 1px 2px rgba(0, 0, 0, 0.3));\n",
              "      fill: #FFFFFF;\n",
              "    }\n",
              "  </style>\n",
              "\n",
              "      <script>\n",
              "        const buttonEl =\n",
              "          document.querySelector('#df-b0944033-b766-4c74-8a30-83532f1bacba button.colab-df-convert');\n",
              "        buttonEl.style.display =\n",
              "          google.colab.kernel.accessAllowed ? 'block' : 'none';\n",
              "\n",
              "        async function convertToInteractive(key) {\n",
              "          const element = document.querySelector('#df-b0944033-b766-4c74-8a30-83532f1bacba');\n",
              "          const dataTable =\n",
              "            await google.colab.kernel.invokeFunction('convertToInteractive',\n",
              "                                                     [key], {});\n",
              "          if (!dataTable) return;\n",
              "\n",
              "          const docLinkHtml = 'Like what you see? Visit the ' +\n",
              "            '<a target=\"_blank\" href=https://colab.research.google.com/notebooks/data_table.ipynb>data table notebook</a>'\n",
              "            + ' to learn more about interactive tables.';\n",
              "          element.innerHTML = '';\n",
              "          dataTable['output_type'] = 'display_data';\n",
              "          await google.colab.output.renderOutput(dataTable, element);\n",
              "          const docLink = document.createElement('div');\n",
              "          docLink.innerHTML = docLinkHtml;\n",
              "          element.appendChild(docLink);\n",
              "        }\n",
              "      </script>\n",
              "    </div>\n",
              "  </div>\n",
              "  "
            ]
          },
          "metadata": {},
          "execution_count": 16
        }
      ],
      "source": [
        "# the path contains the potholes_2016.csv files\n",
        "data_file_name = \"https://raw.githubusercontent.com/akitkumar24/IST718/main/potholes_2016.csv\"\n",
        "\n",
        "# Create potholes dataframe, potholes_shape variables here\n",
        "potholes = pd.read_csv(data_file_name, na_values=\" \")\n",
        "potholes_shape = potholes.shape\n",
        "print(f'shape of potholes is {potholes_shape}')\n",
        "\n",
        "potholes.head()"
      ]
    },
    {
      "cell_type": "code",
      "execution_count": 17,
      "metadata": {
        "deletable": false,
        "editable": false,
        "nbgrader": {
          "checksum": "da34aac4c035b267f3ff5816fd031fba",
          "grade": true,
          "grade_id": "cell-17c0ac01cace4b18",
          "locked": true,
          "points": 10,
          "schema_version": 1,
          "solution": false
        },
        "id": "zy6NqFzi7Q8D"
      },
      "outputs": [],
      "source": [
        "# for grading use only (question 6a)\n"
      ]
    },
    {
      "cell_type": "markdown",
      "metadata": {
        "id": "Ut3kDUJE7Q8D"
      },
      "source": [
        "##### Grading Feedback Cell"
      ]
    },
    {
      "cell_type": "markdown",
      "metadata": {
        "id": "sfrPPNPd7Q8D"
      },
      "source": [
        "6b (4 pts): Count the total number of NAN values in the potholes dataframe and store in a variable named total_nan.  Print the total_nan variable."
      ]
    },
    {
      "cell_type": "code",
      "source": [
        "potholes.isnull().sum()\n",
        "#without replacing '*****' presnet in columns as null"
      ],
      "metadata": {
        "colab": {
          "base_uri": "https://localhost:8080/"
        },
        "id": "e1y0Imqlsthc",
        "outputId": "a08e925e-078d-4e12-a49d-9e71161abee5"
      },
      "execution_count": 18,
      "outputs": [
        {
          "output_type": "execute_result",
          "data": {
            "text/plain": [
              "StreetNumber             0\n",
              "StreetName               0\n",
              "StreetNamePostType       0\n",
              "Directional           5495\n",
              "strLocation              0\n",
              "dtTime                   0\n",
              "streetID                 0\n",
              "VehicleName              0\n",
              "Latitude                 0\n",
              "Longitude                0\n",
              "dtype: int64"
            ]
          },
          "metadata": {},
          "execution_count": 18
        }
      ]
    },
    {
      "cell_type": "code",
      "source": [
        "\n",
        "#potholes['StreetNumber'][potholes['StreetNumber'].str.contains('\\W')] #it return the streetnumber rows that has **** in it.\n",
        "potholes['strLocation'] = potholes['strLocation'].str.replace('\\*+','',regex=True) \n",
        "#since strrLoc is combination of Streenumber,name, direction. since strnumber is ****, its strLoc is represnted as **** Nottingham blv\n",
        "#we will replace ***** in strLoc with '' . and then replace **** in StreetNumber with null so that it count in df.sinull()\n",
        "\n",
        "total_nan = potholes[['StreetNumber', 'StreetName', 'StreetNamePostType', 'Directional',\n",
        "       'strLocation', 'dtTime', 'VehicleName']].replace('\\*+',np.NaN,regex=True).isnull().sum()\n",
        "\n",
        "total_nan"
      ],
      "metadata": {
        "colab": {
          "base_uri": "https://localhost:8080/"
        },
        "id": "4WVs547afp-x",
        "outputId": "f21f22ef-2c68-4ecc-b405-71df26048812"
      },
      "execution_count": 19,
      "outputs": [
        {
          "output_type": "execute_result",
          "data": {
            "text/plain": [
              "StreetNumber            10\n",
              "StreetName               0\n",
              "StreetNamePostType       0\n",
              "Directional           5495\n",
              "strLocation              0\n",
              "dtTime                   0\n",
              "VehicleName              0\n",
              "dtype: int64"
            ]
          },
          "metadata": {},
          "execution_count": 19
        }
      ]
    },
    {
      "cell_type": "code",
      "execution_count": 20,
      "metadata": {
        "deletable": false,
        "editable": false,
        "nbgrader": {
          "checksum": "da34aac4c035b267f3ff5816fd031fba",
          "grade": true,
          "grade_id": "cell-17c0ac01cace4b18",
          "locked": true,
          "points": 10,
          "schema_version": 1,
          "solution": false
        },
        "id": "pUyjs72H7Q8D"
      },
      "outputs": [],
      "source": [
        "# for grading use only (question 6b)\n"
      ]
    },
    {
      "cell_type": "markdown",
      "metadata": {
        "id": "0g4BDvTf7Q8D"
      },
      "source": [
        "##### Grading Feedback Cell"
      ]
    },
    {
      "cell_type": "markdown",
      "metadata": {
        "id": "L2a5XiFs7Q8D"
      },
      "source": [
        "6c (4 pts): Count the number of unique street names in the dataframe and store in a variable named unique_street_name_count.  Print unique_street_name_count."
      ]
    },
    {
      "cell_type": "code",
      "execution_count": 21,
      "metadata": {
        "id": "rPZ6sx387Q8D",
        "colab": {
          "base_uri": "https://localhost:8080/"
        },
        "outputId": "46ff75b1-256e-4d4e-8ba7-28fad8b2fff1"
      },
      "outputs": [
        {
          "output_type": "execute_result",
          "data": {
            "text/plain": [
              "413"
            ]
          },
          "metadata": {},
          "execution_count": 21
        }
      ],
      "source": [
        "# your unique street name count here\n",
        "unique_street_name_count = len(potholes['StreetName'].unique())\n",
        "unique_street_name_count\n",
        "#413 unique streetname"
      ]
    },
    {
      "cell_type": "code",
      "execution_count": 22,
      "metadata": {
        "deletable": false,
        "editable": false,
        "nbgrader": {
          "checksum": "da34aac4c035b267f3ff5816fd031fba",
          "grade": true,
          "grade_id": "cell-17c0ac01cace4b18",
          "locked": true,
          "points": 10,
          "schema_version": 1,
          "solution": false
        },
        "id": "uKpm_q5N7Q8D"
      },
      "outputs": [],
      "source": [
        "# for grading use only (question 6c)"
      ]
    },
    {
      "cell_type": "markdown",
      "metadata": {
        "id": "MSWrhfdU7Q8D"
      },
      "source": [
        "##### Grading Feedback Cell"
      ]
    },
    {
      "cell_type": "markdown",
      "metadata": {
        "id": "XgzINnsw7Q8D"
      },
      "source": [
        "6d (4 pts): Use the pandas groupby feature to create a new dataframe called street_pothole_sum which summarizes the total number of potholes by street.  You are essentially counting the number of rows by street name.  The rows of street_pothole_sum should be the labeled with street name.  There should be a single column in street_pothole_sum dataframe named num_potholes.  Print the head and shape of the street_pothole_sum dataframe."
      ]
    },
    {
      "cell_type": "code",
      "execution_count": 23,
      "metadata": {
        "scrolled": true,
        "id": "ocTfZaX07Q8D",
        "colab": {
          "base_uri": "https://localhost:8080/"
        },
        "outputId": "94be740d-72ae-4f22-92a7-bc4c5b7aaf21"
      },
      "outputs": [
        {
          "output_type": "stream",
          "name": "stdout",
          "text": [
            "shape is (413, 1)\n",
            "\n",
            "            street_pothole_sum\n",
            "StreetName                    \n",
            "ACADEMY                     76\n",
            "ACKERMAN                     5\n",
            "ADAMS                       17\n",
            "AINSLEY                      7\n",
            "ALANSON                      4\n"
          ]
        }
      ],
      "source": [
        "# street_pothole_sum code here\n",
        "street_pothole_sum = pd.DataFrame( potholes.groupby('StreetName')['StreetNumber'].count())\n",
        "street_pothole_sum.columns = ['street_pothole_sum']\n",
        "print(f'shape is {street_pothole_sum.shape}')\n",
        "print()\n",
        "print(street_pothole_sum.head())"
      ]
    },
    {
      "cell_type": "code",
      "execution_count": 24,
      "metadata": {
        "deletable": false,
        "editable": false,
        "nbgrader": {
          "checksum": "da34aac4c035b267f3ff5816fd031fba",
          "grade": true,
          "grade_id": "cell-17c0ac01cace4b18",
          "locked": true,
          "points": 10,
          "schema_version": 1,
          "solution": false
        },
        "id": "iF8eWiJU7Q8D"
      },
      "outputs": [],
      "source": [
        "# for grading use only (question 6d)"
      ]
    },
    {
      "cell_type": "markdown",
      "metadata": {
        "id": "1WxDnJgq7Q8D"
      },
      "source": [
        "##### Grading Feedback Cell"
      ]
    },
    {
      "cell_type": "markdown",
      "metadata": {
        "id": "C8bMe1VP7Q8D"
      },
      "source": [
        "6e (4 pts) Save the number of potholes on Comstock Ave in a variable named num_potholes_comstock and display the variable. The num_potholes_comstock variable should be an integer type.  Print num_potholes_comstock."
      ]
    },
    {
      "cell_type": "code",
      "execution_count": 25,
      "metadata": {
        "id": "DzIcbIGy7Q8E",
        "colab": {
          "base_uri": "https://localhost:8080/"
        },
        "outputId": "ce0c24ec-b5a4-4fd7-886e-849e63db3682"
      },
      "outputs": [
        {
          "output_type": "execute_result",
          "data": {
            "text/plain": [
              "StreetName\n",
              "COMSTOCK    10\n",
              "Name: StreetNumber, dtype: int64"
            ]
          },
          "metadata": {},
          "execution_count": 25
        }
      ],
      "source": [
        "# num_potholes_comstock code here\n",
        "potholes['StreetName'] = potholes['StreetName'].str.strip()#since it had some spaces ex.'COMSTOCK  ' .--->'COMSTOCK'\n",
        "num_potholes_comstock = potholes[potholes['StreetName']=='COMSTOCK'].groupby('StreetName').count()['StreetNumber']\n",
        "num_potholes_comstock"
      ]
    },
    {
      "cell_type": "code",
      "execution_count": 26,
      "metadata": {
        "deletable": false,
        "editable": false,
        "nbgrader": {
          "checksum": "da34aac4c035b267f3ff5816fd031fba",
          "grade": true,
          "grade_id": "cell-17c0ac01cace4b18",
          "locked": true,
          "points": 10,
          "schema_version": 1,
          "solution": false
        },
        "id": "CQH138i27Q8E"
      },
      "outputs": [],
      "source": [
        "# for grading use only (question 6e)"
      ]
    },
    {
      "cell_type": "markdown",
      "metadata": {
        "id": "-wjcxZAW7Q8E"
      },
      "source": [
        "##### Grading Feedback Cell"
      ]
    },
    {
      "cell_type": "markdown",
      "metadata": {
        "id": "6KeVMAFe7Q8E"
      },
      "source": [
        "#### Question 7 (10 pts): Create a function named my_corr_coef that takes as input 2 numpy single dimensional arrays and returns the correlation coefficient to the caller.  Note that your function does not have to work for matrices.  The correlation coefficient is a number of type float between -1 and 1.  The my_corr_coef function should not use any built in numpy functions to calculate the correlation.  For example, don't use the built in numpy corrcoef function, don't use np.mean, etc.  Make sure to check for input error conditions and return the Python 'None' type if the correlation coefficient cannot be computed due to problems with the input data.  See [equation 3](https://en.wikipedia.org/wiki/Pearson_correlation_coefficient) as a reference on how to compute correlation."
      ]
    },
    {
      "cell_type": "code",
      "execution_count": 27,
      "metadata": {
        "id": "TUujwvX57Q8E"
      },
      "outputs": [],
      "source": [
        "# my_corr_coef here\n",
        "def my_corr_coef(arr1,arr2):\n",
        "\n",
        "  if len(arr1)==len(arr2): #check if len of list are same, \n",
        "    print('len are same')\n",
        "    if arr1.ndim==1 and arr2.ndim==1: #check even if len is same, its ndim is same.---> a=[1,2],b=[[1,2],[3,4]]--len is 2 and ndim is 1,2.\n",
        "      sum_x = sum(arr1)\n",
        "      sum_y = sum(arr2)\n",
        "      upper = len(arr1)*sum((arr1*arr2))-(sum_x)*(sum_y)   #calculate upper part of coeff\n",
        "     # print(upper)\n",
        "      lower_1 = len(arr1)*(sum(a**2))-(sum_x)**2  \n",
        "      lower_2 = len(arr1)*(sum(arr2**2))-(sum_y)**2\n",
        "      lower = (lower_1*lower_2)**0.5\n",
        "\n",
        "      coeff = upper/lower\n",
        "      return coeff\n",
        "    else:\n",
        "      print('inputs are not of same type')\n",
        "      return None\n",
        "  else:\n",
        "    print('Len of inputs are not same')\n",
        "    return None    \n",
        "      "
      ]
    },
    {
      "cell_type": "code",
      "execution_count": 28,
      "metadata": {
        "deletable": false,
        "editable": false,
        "nbgrader": {
          "checksum": "da34aac4c035b267f3ff5816fd031fba",
          "grade": true,
          "grade_id": "cell-17c0ac01cace4b18",
          "locked": true,
          "points": 10,
          "schema_version": 1,
          "solution": false
        },
        "id": "neY_CCm17Q8E",
        "colab": {
          "base_uri": "https://localhost:8080/"
        },
        "outputId": "1fa7bf3a-e9b7-461c-9def-22d546f1a0e3"
      },
      "outputs": [
        {
          "output_type": "stream",
          "name": "stdout",
          "text": [
            "len are same\n",
            "our_coeff 1.0\n",
            "Numpy coeff is [[1. 1.]\n",
            " [1. 1.]]\n"
          ]
        }
      ],
      "source": [
        "# for grading use only (question 7)\n",
        "a = np.array([1,2,3,4,6,7,8,9])\n",
        "b = np.array([1,2,3,4,6,7,8,9])\n",
        "our_coeff = my_corr_coef(a,b)\n",
        "print(f'our_coeff {our_coeff }')\n",
        "print(f'Numpy coeff is {np.corrcoef(a,b)}')\n",
        "\n"
      ]
    },
    {
      "cell_type": "code",
      "source": [
        "a = np.array([1,2])\n",
        "b = np.array([[1,2],[3,4]])\n",
        "our_coeff = my_corr_coef(a,b)"
      ],
      "metadata": {
        "colab": {
          "base_uri": "https://localhost:8080/"
        },
        "id": "Qsz0Kb13kPbL",
        "outputId": "682d271e-357b-4aa8-dbc3-9bfe3626cd24"
      },
      "execution_count": 29,
      "outputs": [
        {
          "output_type": "stream",
          "name": "stdout",
          "text": [
            "len are same\n",
            "inputs are not of same type\n"
          ]
        }
      ]
    },
    {
      "cell_type": "code",
      "source": [
        "a = np.array([1,2])\n",
        "b = np.array([1,2,3,4])\n",
        "our_coeff = my_corr_coef(a,b)"
      ],
      "metadata": {
        "colab": {
          "base_uri": "https://localhost:8080/"
        },
        "id": "M5sxE_r8kRPA",
        "outputId": "5603c61c-5257-4db1-b7ac-0718323421c8"
      },
      "execution_count": 30,
      "outputs": [
        {
          "output_type": "stream",
          "name": "stdout",
          "text": [
            "Len of inputs are not same\n"
          ]
        }
      ]
    },
    {
      "cell_type": "code",
      "source": [
        "# for grading use only (question 7)"
      ],
      "metadata": {
        "id": "W1PfSzwZkemc"
      },
      "execution_count": 31,
      "outputs": []
    },
    {
      "cell_type": "markdown",
      "metadata": {
        "id": "GaZhUXSu7Q8E"
      },
      "source": [
        "##### Grading Feedback Cell"
      ]
    }
  ],
  "metadata": {
    "celltoolbar": "Edit Metadata",
    "kernel_info": {
      "name": "python3"
    },
    "kernelspec": {
      "display_name": "Python 3",
      "language": "python",
      "name": "python3"
    },
    "language_info": {
      "codemirror_mode": {
        "name": "ipython",
        "version": 3
      },
      "file_extension": ".py",
      "mimetype": "text/x-python",
      "name": "python",
      "nbconvert_exporter": "python",
      "pygments_lexer": "ipython3",
      "version": "3.7.7"
    },
    "name": "lab1-no-key",
    "notebookId": 3197279189044075,
    "nteract": {
      "version": "0.12.3"
    },
    "colab": {
      "provenance": [],
      "collapsed_sections": [
        "8AliLFQ37Q78",
        "FNi__0ja7Q8C",
        "-wjcxZAW7Q8E",
        "GaZhUXSu7Q8E"
      ]
    }
  },
  "nbformat": 4,
  "nbformat_minor": 0
}